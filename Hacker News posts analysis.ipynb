{
 "cells": [
  {
   "cell_type": "markdown",
   "metadata": {
    "collapsed": true
   },
   "source": [
    "# Looking for Ways to Get the Most Comments on Hacker News Posts\n",
    "\n",
    "## Introduction\n",
    "\n",
    "Hacker News is a site started by the startup [incubator Y](https://www.ycombinator.com) Combinator, where user-submitted stories (known as \"posts\") receive votes and comments, similar to reddit. Hacker News is extremely popular in technology and startup circles, and posts that make it to the top of the Hacker News listings can get hundreds of thousands of visitors as a result.\n",
    "\n",
    "Our main task in this project is to analyze  **Hacker News posts**1. We want to find out which posts are more likely to get the most comments on average. We also want to know if the post creation time affects the number of comments they receive.\n"
   ]
  },
  {
   "cell_type": "markdown",
   "metadata": {},
   "source": [
    "**Hacker News** mainly consists of two types of posts. Among these type of posts are: \n",
    " * **ASk HN**: In this type of posts, users get to ask the Hacker News Community a question to get clarified\n",
    " * **Show HN**: Here a users show the Hacker News community a project, product, or just something interesting.\n",
    " \n",
    " Our analysis shall focus on these two type of posts."
   ]
  },
  {
   "cell_type": "markdown",
   "metadata": {},
   "source": [
    "In our research, we learned that **Ask HN** gets the most comments. The creation time of the post also affects the number of comments per the post. The following will show the steps we used to achieve our goal."
   ]
  },
  {
   "cell_type": "markdown",
   "metadata": {},
   "source": [
    "# Reading and Opening the data set to be used"
   ]
  },
  {
   "cell_type": "markdown",
   "metadata": {},
   "source": [
    "* We satart by importing the necessary modules"
   ]
  },
  {
   "cell_type": "code",
   "execution_count": 18,
   "metadata": {},
   "outputs": [],
   "source": [
    "#Importing necessary liabraries\n",
    "\n",
    "from csv import reader\n",
    "import datetime as dt"
   ]
  },
  {
   "cell_type": "markdown",
   "metadata": {},
   "source": [
    "Now we are ready to open and read our dataset. We are using [this](https://www.kaggle.com/datasets/hacker-news/hacker-news-posts) dataset from **Kaggle**. You can download it directly from [this link](https://www.kaggle.com/datasets/hacker-news/hacker-news-posts/download?datasetVersionNumber=1)."
   ]
  },
  {
   "cell_type": "code",
   "execution_count": 19,
   "metadata": {},
   "outputs": [],
   "source": [
    "opened_file = open(\"hacker_news.csv\")\n",
    "read_file = reader(opened_file)\n",
    "hn = list(read_file)\n",
    "hn[:5]\n",
    "\n",
    "#Extracting the first row/heaher row of data set to a variable\n",
    "headers = hn[0]\n",
    "\n",
    "#Remove/ delete the header row from the rest of the data\n",
    "del hn[0]"
   ]
  },
  {
   "cell_type": "markdown",
   "metadata": {},
   "source": [
    "Let us have a better understanding of the columns that constitudes our data."
   ]
  },
  {
   "cell_type": "code",
   "execution_count": 20,
   "metadata": {},
   "outputs": [
    {
     "data": {
      "text/plain": [
       "['id', 'title', 'url', 'num_points', 'num_comments', 'author', 'created_at']"
      ]
     },
     "execution_count": 20,
     "metadata": {},
     "output_type": "execute_result"
    }
   ],
   "source": [
    "headers"
   ]
  },
  {
   "cell_type": "markdown",
   "metadata": {},
   "source": [
    "* `id`: the unique Identifier from **Hacker News** for the post\n",
    "* `title`: the title of the post\n",
    "* `url`: the URL that the posts links to, if the post has a URL\n",
    "* `num_points`: the number of points the post acquired, calculated as the total number of upvotes minus the total number of downvotes\n",
    "* `num_comments`: the number of comments on the post\n",
    "* `author`: the username of the person who submitted the post\n",
    "* `created_at`: the date and time of the post's submission"
   ]
  },
  {
   "cell_type": "markdown",
   "metadata": {},
   "source": [
    "# Extracting `Ask HN` and `Show HN` Posts\n",
    "\n",
    "* We now want to isolate the `ASk HN` and `Show HN` Posts. This is done as follows:"
   ]
  },
  {
   "cell_type": "code",
   "execution_count": 24,
   "metadata": {},
   "outputs": [
    {
     "name": "stdout",
     "output_type": "stream",
     "text": [
      "There are 1744 'Ask HN' Posts and 1162 'Show HN' posts \n"
     ]
    }
   ],
   "source": [
    "# Hold the ask HN Posts\n",
    "ask_posts = [] \n",
    "\n",
    "#Hold the Show HN posts\n",
    "show_posts = []\n",
    "\n",
    "#Others posts that are niether ask nor Show post.\n",
    "other_posts = []\n",
    "\n",
    "for row in hn:\n",
    "    title = row[1]\n",
    "    title = title.lower()\n",
    "    if title.startswith(\"ask hn\"):\n",
    "        ask_posts.append(row)\n",
    "    elif title.startswith(\"show hn\"):\n",
    "        show_posts.append(row)\n",
    "    else:\n",
    "        other_posts.append(row)\n",
    "        \n",
    "print(\"There are {} 'Ask HN' Posts and {} 'Show HN' posts \".format(len(ask_posts),len(show_posts)))"
   ]
  },
  {
   "cell_type": "markdown",
   "metadata": {},
   "source": [
    "There are **1,744 Ask HN** posts and **1,162 Show HN** posts. This shows a greater number of posts from the **Ask HN category**"
   ]
  },
  {
   "cell_type": "markdown",
   "metadata": {},
   "source": [
    "# Calculating the Average Number of Comments for Ask HN and Show HN Posts\n",
    "\n",
    "Now, let us see the average number of posts that constitute Ask HN and Show KN"
   ]
  },
  {
   "cell_type": "code",
   "execution_count": 27,
   "metadata": {},
   "outputs": [
    {
     "data": {
      "text/plain": [
       "14.038417431192661"
      ]
     },
     "execution_count": 27,
     "metadata": {},
     "output_type": "execute_result"
    }
   ],
   "source": [
    "# Finding total number of comments in ask_post list\n",
    "total_ask_comments = 0\n",
    "\n",
    "for post in ask_posts:\n",
    "    num_comments = post[4]\n",
    "    num_comments = int(num_comments)\n",
    "    total_ask_comments += num_comments\n",
    "    \n",
    "avg_ask_comments = total_ask_comments / len(ask_posts)\n",
    "avg_ask_comments"
   ]
  },
  {
   "cell_type": "code",
   "execution_count": 6,
   "metadata": {},
   "outputs": [
    {
     "data": {
      "text/plain": [
       "10.31669535283993"
      ]
     },
     "execution_count": 6,
     "metadata": {},
     "output_type": "execute_result"
    }
   ],
   "source": [
    "# Finding total number of comments in show_post list\n",
    "total_show_comments = 0\n",
    "for post in show_posts:\n",
    "    num_comments = post[4]\n",
    "    num_comments = int(num_comments)\n",
    "    total_show_comments += num_comments\n",
    "    \n",
    "avg_show_comments = total_show_comments / len(show_posts)\n",
    "\n",
    "avg_show_comments\n"
   ]
  },
  {
   "cell_type": "markdown",
   "metadata": {},
   "source": [
    "**Ask HN Posts** have **14 comments per post** and **Show HN Posts** have **10 comments per post** on average. This shows that people in the Hacker News community are more willing to comment on questions.\n",
    "\n",
    "According to this analysis, further analysis will be focused on **Ask HN posts** since they are likely to receive more comments."
   ]
  },
  {
   "cell_type": "markdown",
   "metadata": {},
   "source": [
    "# Finding the Number of Ask Posts and Comments by Hour Created"
   ]
  },
  {
   "cell_type": "code",
   "execution_count": 28,
   "metadata": {},
   "outputs": [
    {
     "name": "stdout",
     "output_type": "stream",
     "text": [
      "{'09': 45, '13': 85, '10': 59, '14': 107, '16': 108, '23': 68, '12': 73, '17': 100, '15': 116, '21': 109, '20': 80, '02': 58, '18': 109, '03': 54, '05': 46, '19': 110, '01': 60, '22': 71, '08': 48, '04': 47, '00': 55, '06': 44, '07': 34, '11': 58}\n",
      "--------\n",
      "{'09': 251, '13': 1253, '10': 793, '14': 1416, '16': 1814, '23': 543, '12': 687, '17': 1146, '15': 4477, '21': 1745, '20': 1722, '02': 1381, '18': 1439, '03': 421, '05': 464, '19': 1188, '01': 683, '22': 479, '08': 492, '04': 337, '00': 447, '06': 397, '07': 267, '11': 641}\n"
     ]
    }
   ],
   "source": [
    "result_list = [] ## List of lists containinng dates and comments\n",
    "\n",
    "#Dictionary holding the number of  `ASK HN`posts during every hour of the day.\n",
    "counts_by_hour = {}  \n",
    "\n",
    "#Dictionary containing the number of comments on a post during eah hour of the day\n",
    "comments_by_hour = {}\n",
    "\n",
    "date_format = \"%m/%d/%Y %H:%M\"\n",
    "\n",
    "for post in ask_posts:\n",
    "    created_at = post[6]\n",
    "    num_comments = post[4]\n",
    "    num_comments = int(num_comments)\n",
    "    result_list.append([created_at,num_comments])\n",
    "    \n",
    "for row in result_list:\n",
    "    date = row[0]\n",
    "    num_comments = row[1]\n",
    "    date = dt.datetime.strptime(date,date_format)\n",
    "    hour = date.strftime(\"%H\")\n",
    "    if hour not in counts_by_hour:\n",
    "        counts_by_hour[hour] = 1\n",
    "        comments_by_hour[hour] = num_comments\n",
    "    else:\n",
    "        counts_by_hour[hour] += 1\n",
    "        comments_by_hour[hour] += num_comments\n",
    "        \n",
    "print(counts_by_hour)\n",
    "\n",
    "print(\"--------\")\n",
    "\n",
    "print(comments_by_hour)\n"
   ]
  },
  {
   "cell_type": "markdown",
   "metadata": {},
   "source": [
    "Now we have the number of posts and comments for each hour. With it, we can find the average number of comments per post by hour."
   ]
  },
  {
   "cell_type": "markdown",
   "metadata": {},
   "source": [
    "Now it is time for us to calculate the **average number  of comments for ASk HN Posts by hour**. This will be done by considering the two dictionaries created above, that is, the `counts_by_hour` and `comments_by_hour` dictionaries "
   ]
  },
  {
   "cell_type": "code",
   "execution_count": 29,
   "metadata": {},
   "outputs": [
    {
     "data": {
      "text/plain": [
       "[['09', 5.5777777777777775],\n",
       " ['13', 14.741176470588234],\n",
       " ['10', 13.440677966101696],\n",
       " ['14', 13.233644859813085],\n",
       " ['16', 16.796296296296298],\n",
       " ['23', 7.985294117647059],\n",
       " ['12', 9.41095890410959],\n",
       " ['17', 11.46],\n",
       " ['15', 38.5948275862069],\n",
       " ['21', 16.009174311926607],\n",
       " ['20', 21.525],\n",
       " ['02', 23.810344827586206],\n",
       " ['18', 13.20183486238532],\n",
       " ['03', 7.796296296296297],\n",
       " ['05', 10.08695652173913],\n",
       " ['19', 10.8],\n",
       " ['01', 11.383333333333333],\n",
       " ['22', 6.746478873239437],\n",
       " ['08', 10.25],\n",
       " ['04', 7.170212765957447],\n",
       " ['00', 8.127272727272727],\n",
       " ['06', 9.022727272727273],\n",
       " ['07', 7.852941176470588],\n",
       " ['11', 11.051724137931034]]"
      ]
     },
     "execution_count": 29,
     "metadata": {},
     "output_type": "execute_result"
    }
   ],
   "source": [
    "avg_by_hour = []\n",
    "for key in comments_by_hour:\n",
    "    avg_by_hour.append([key,comments_by_hour[key] / counts_by_hour[key]])    \n",
    "avg_by_hour"
   ]
  },
  {
   "cell_type": "markdown",
   "metadata": {},
   "source": [
    "The result sofar obtained, can not really be a right for drawing conclusions because that will be visually difficult since the list of lists is not sorted.\n",
    "\n",
    "Our next target is to get the `avg_by_hour` list of list sorted and the top five hours with the highest number of comments in order."
   ]
  },
  {
   "cell_type": "code",
   "execution_count": 33,
   "metadata": {},
   "outputs": [
    {
     "name": "stdout",
     "output_type": "stream",
     "text": [
      "The Top 5 Hours for Ask Posts Comments\n",
      "\n",
      "\n",
      "[38.5948275862069, '15']\n",
      "\n",
      "\n",
      "[23.810344827586206, '02']\n",
      "\n",
      "\n",
      "[21.525, '20']\n",
      "\n",
      "\n",
      "[16.796296296296298, '16']\n",
      "\n",
      "\n",
      "[16.009174311926607, '21']\n",
      "\n",
      "\n"
     ]
    }
   ],
   "source": [
    "#we ajust element position in the  `avg_by_hour` list of list so that the sort function works properly\n",
    "swap_avg_by_hour = []\n",
    "for item in avg_by_hour:\n",
    "    hour,avg = item\n",
    "    swap_avg_by_hour.append([avg,hour])\n",
    "    \n",
    "# reverse = True so that the sorting happens in descending order\n",
    "sorted_swap = sorted(swap_avg_by_hour, reverse=True) \n",
    "\n",
    "print('The Top 5 Hours for Ask Posts Comments')\n",
    "print(\"\\n\")\n",
    "for item in sorted_swap[:5]:\n",
    "    print(item)\n",
    "    print(\"\\n\")"
   ]
  },
  {
   "cell_type": "markdown",
   "metadata": {},
   "source": [
    "* Let us now try to format the result to be visuaaally more pleasing so that conclusion can easily be drawn"
   ]
  },
  {
   "cell_type": "code",
   "execution_count": 34,
   "metadata": {},
   "outputs": [
    {
     "name": "stdout",
     "output_type": "stream",
     "text": [
      "15:00: 38.59 average comments per post\n",
      "02:00: 23.81 average comments per post\n",
      "20:00: 21.52 average comments per post\n",
      "16:00: 16.80 average comments per post\n",
      "21:00: 16.01 average comments per post\n"
     ]
    }
   ],
   "source": [
    "for item in sorted_swap[:5]:\n",
    "    average,hour = item\n",
    "    date = dt.datetime.strptime(hour,\"%H\")\n",
    "    date = date.strftime(\"%H:%M\")\n",
    "    print(\"{}: {:.2f} average comments per post\".format(date,average))\n",
    "    "
   ]
  },
  {
   "cell_type": "markdown",
   "metadata": {},
   "source": [
    "According to number of comments, **15:00** leads with **38.59** commnets per post, followed respectively by **02:00** with **23.81**, **20:00** with **21.52**,**16:00** with **16.80** and **21:00** with **16.01** comments per post.\n",
    "\n",
    "With this information, we can say that post creation time has a big impact on the number of comments we receive. Best time for **Ask HN** post to get the most comments is between 13:00 and 16:00."
   ]
  },
  {
   "cell_type": "markdown",
   "metadata": {},
   "source": [
    "# Conclusion\n",
    "\n",
    "The goal of our project was as follows. To understand which **Ask HN** or **Show HN** posts get more comments on average and whether time of the day affects this. To do this, we first calculated the average number of comments for each type of posts. Then we calculated the average number of comments **Ask HN** posts receive by hour created to see if it affects the average number of comments."
   ]
  },
  {
   "cell_type": "markdown",
   "metadata": {},
   "source": [
    "In the end, we learned that **Ask HN** posts gain a lot more comments on average. Time is also greatly affects the average number of comments per post. The best hours for **Ask HN** posts is between 13:00 and 16:00."
   ]
  },
  {
   "cell_type": "code",
   "execution_count": null,
   "metadata": {},
   "outputs": [],
   "source": []
  }
 ],
 "metadata": {
  "kernelspec": {
   "display_name": "Python 3 (ipykernel)",
   "language": "python",
   "name": "python3"
  },
  "language_info": {
   "codemirror_mode": {
    "name": "ipython",
    "version": 3
   },
   "file_extension": ".py",
   "mimetype": "text/x-python",
   "name": "python",
   "nbconvert_exporter": "python",
   "pygments_lexer": "ipython3",
   "version": "3.8.10"
  }
 },
 "nbformat": 4,
 "nbformat_minor": 2
}
